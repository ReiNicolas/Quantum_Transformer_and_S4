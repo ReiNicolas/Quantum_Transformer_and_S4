{
 "cells": [
  {
   "cell_type": "code",
   "execution_count": 2,
   "id": "5ec369b8-4e4f-4612-8a66-64ea875f4b15",
   "metadata": {},
   "outputs": [],
   "source": [
    "import torch"
   ]
  },
  {
   "cell_type": "code",
   "execution_count": 3,
   "id": "e1a75928-b252-4ba2-9967-c653b0f66876",
   "metadata": {},
   "outputs": [
    {
     "name": "stderr",
     "output_type": "stream",
     "text": [
      "CUDA extension for structured kernels (Cauchy and Vandermonde multiplication) not found. Install by going to extensions/kernels/ and running `python setup.py install`, for improved speed and memory efficiency. Note that the kernel changed for state-spaces 4.0 and must be recompiled.\n",
      "Falling back on slow Cauchy and Vandermonde kernel. Install at least one of pykeops or the CUDA extension for better speed and memory efficiency.\n"
     ]
    }
   ],
   "source": [
    "from s4_model import *\n",
    "from Hamiltonian import Ising"
   ]
  },
  {
   "cell_type": "code",
   "execution_count": 15,
   "id": "22a57293-7f3c-4346-898e-ad1f139ae31c",
   "metadata": {},
   "outputs": [],
   "source": [
    "system_sizes=np.array([[4,3]])\n",
    "Hamiltonian=Ising(system_sizes[0], periodic=False)\n",
    "param_dim=4\n",
    "\n",
    "embedding_size = 106\n",
    "n_head = 8\n",
    "n_hid = embedding_size\n",
    "n_layers = 8\n",
    "dropout = 0\n",
    "minibatch = 10000\n"
   ]
  },
  {
   "cell_type": "code",
   "execution_count": 16,
   "id": "cad4aaf3-26e7-4ae1-a25a-e0c7cfc66b69",
   "metadata": {},
   "outputs": [],
   "source": [
    "modelo=Quantum_S4(system_sizes,param_dim=param_dim,hidden_size=n_hid,param_encoding=2)"
   ]
  },
  {
   "cell_type": "code",
   "execution_count": 17,
   "id": "a304eb62-7fd6-4054-91be-10b8bbef5f72",
   "metadata": {},
   "outputs": [
    {
     "data": {
      "text/plain": [
       "52474"
      ]
     },
     "execution_count": 17,
     "metadata": {},
     "output_type": "execute_result"
    }
   ],
   "source": [
    "num_params = sum([param.numel() for param in modelo.parameters()])\n",
    "num_params"
   ]
  },
  {
   "cell_type": "code",
   "execution_count": 18,
   "id": "ce914b9c-6e1b-4b0b-8566-227d7a3940eb",
   "metadata": {},
   "outputs": [
    {
     "data": {
      "text/plain": [
       "tensor([1.0000, 0.0000, 0.0000, 1.0000, 1.3863, 1.9218, 1.0986, 1.2069, 0.0000,\n",
       "        0.0000, 1.0000, 1.0000, 2.0000, 4.0000, 3.0000, 9.0000])"
      ]
     },
     "execution_count": 18,
     "metadata": {},
     "output_type": "execute_result"
    }
   ],
   "source": [
    "param = torch.tensor(range(0,param_dim), dtype=torch.get_default_dtype())\n",
    "for i in range(0,param_dim):\n",
    "    param[i]=i\n",
    "\n",
    "modelo.set_param(system_sizes[0],param)\n",
    "modelo.prefix_seq()"
   ]
  },
  {
   "cell_type": "code",
   "execution_count": 19,
   "id": "c5b4ae43-6f48-4bfe-95c1-73fdce553a14",
   "metadata": {},
   "outputs": [
    {
     "data": {
      "text/plain": [
       "torch.Size([2, 4])"
      ]
     },
     "execution_count": 19,
     "metadata": {},
     "output_type": "execute_result"
    }
   ],
   "source": [
    "spins=torch.tensor([[0., 1.,0.,0.],[1.,0.,0.,1.]])\n",
    "spins.shape"
   ]
  },
  {
   "cell_type": "code",
   "execution_count": null,
   "id": "7c4174d0-25cf-4477-aaff-0daaf943849c",
   "metadata": {},
   "outputs": [],
   "source": [
    "modelo.wrap_spins(spins).shape"
   ]
  },
  {
   "cell_type": "code",
   "execution_count": null,
   "id": "7ce4b23f-7d23-4c49-9f03-c162cd2fef89",
   "metadata": {},
   "outputs": [],
   "source": [
    "torch.swapaxes(torch.zeros(size=(1,2,3)),0,1).shape"
   ]
  },
  {
   "cell_type": "code",
   "execution_count": null,
   "id": "9f077bee-8abb-4410-884a-3da765132aa9",
   "metadata": {},
   "outputs": [],
   "source": [
    "modelo(spins)[0].shape"
   ]
  }
 ],
 "metadata": {
  "kernelspec": {
   "display_name": "Python 3 (ipykernel)",
   "language": "python",
   "name": "python3"
  },
  "language_info": {
   "codemirror_mode": {
    "name": "ipython",
    "version": 3
   },
   "file_extension": ".py",
   "mimetype": "text/x-python",
   "name": "python",
   "nbconvert_exporter": "python",
   "pygments_lexer": "ipython3",
   "version": "3.9.13"
  }
 },
 "nbformat": 4,
 "nbformat_minor": 5
}
